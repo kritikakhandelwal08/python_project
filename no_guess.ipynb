{
 "cells": [
  {
   "cell_type": "code",
   "execution_count": 1,
   "id": "8f5883af",
   "metadata": {},
   "outputs": [],
   "source": [
    "import random\n",
    "import math"
   ]
  },
  {
   "cell_type": "code",
   "execution_count": 4,
   "id": "91e69bc4",
   "metadata": {},
   "outputs": [
    {
     "name": "stdout",
     "output_type": "stream",
     "text": [
      "Enter lower bond1\n",
      "Enter upper bond100\n",
      "/n/n you have only  7  chances to guess the intergers!\n",
      "\n",
      "Guess a number...45\n",
      "You guess too high\n",
      "Guess a number...1\n",
      "You guess too high\n",
      "Guess a number...34\n",
      "You guess too high\n",
      "Guess a number...23\n",
      "You guess too high\n",
      "Guess a number...67\n",
      "You guess too high\n",
      "Guess a number...34\n",
      "You guess too high\n",
      "Guess a number...23\n",
      "You guess too high\n",
      "Better luck next time\n"
     ]
    }
   ],
   "source": [
    "lower=int(input(\"Enter lower bond\"))\n",
    "upper=int(input(\"Enter upper bond\"))\n",
    "x=random.randint(lower,upper)\n",
    "print(\"/n/n you have only \",round(math.log(upper-lower+1,2)),\" chances to guess the intergers!\\n\")\n",
    "count=0\n",
    "while count<round(math.log(upper-lower+1,2)):\n",
    "    count+=1\n",
    "    guess=int(input(\"Guess a number...\"))\n",
    "    if guess==x:\n",
    "        print(\"Congratulations you did it\")\n",
    "        break\n",
    "    elif guess>x:\n",
    "        print(\"You guess too small\")\n",
    "    elif guess<x:\n",
    "        print(\"You guess too high\")\n",
    "if count>=round(math.log(upper-lower+1,2)):\n",
    "    print(\"Better luck next time\")"
   ]
  },
  {
   "cell_type": "code",
   "execution_count": null,
   "id": "0e05a17d",
   "metadata": {},
   "outputs": [],
   "source": []
  }
 ],
 "metadata": {
  "kernelspec": {
   "display_name": "Python 3 (ipykernel)",
   "language": "python",
   "name": "python3"
  },
  "language_info": {
   "codemirror_mode": {
    "name": "ipython",
    "version": 3
   },
   "file_extension": ".py",
   "mimetype": "text/x-python",
   "name": "python",
   "nbconvert_exporter": "python",
   "pygments_lexer": "ipython3",
   "version": "3.9.13"
  }
 },
 "nbformat": 4,
 "nbformat_minor": 5
}
