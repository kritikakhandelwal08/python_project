{
 "cells": [
  {
   "cell_type": "code",
   "execution_count": 1,
   "id": "3bb770dd",
   "metadata": {},
   "outputs": [
    {
     "name": "stdout",
     "output_type": "stream",
     "text": [
      "Rock,paper,Scissor?Rock\n",
      "tie\n"
     ]
    }
   ],
   "source": [
    "from random import randint\n",
    "t=[\"Rock\",\"paper\",\"Scissor\"]\n",
    "#assign a random play to the computer\n",
    "computer= t[randint(0,2)]\n",
    "#set player to false\n",
    "player=False\n",
    "while player==False:\n",
    "    #set player to true\n",
    "    player=input(\"Rock,paper,Scissor?\")\n",
    "    if player==computer:\n",
    "        print(\"tie\")\n",
    "        break;\n",
    "    elif player==\"Rock\":\n",
    "        if computer==\"paper\":\n",
    "            print(\"You loss \",computer, \"cover\",player)\n",
    "        else:\n",
    "            print(\"You win \",player ,\"Sameshes \",computer)\n",
    "    elif player==\"paper\":\n",
    "        if computer==\"Scissor\":\n",
    "            print(\"You loss \",computer, \"cut \",player)\n",
    "        else:\n",
    "            print(\"You win \",player ,\"cover \",computer)\n",
    "    elif player==\"Scissor\":\n",
    "        if computer==\"Rock\":\n",
    "            print(\"You loss \",computer, \"Smashes \",player)\n",
    "        else:\n",
    "            print(\"You win \",player ,\"cut \",computer)  \n",
    "    else:\n",
    "        print(\"That's not a valid play . Please check your spelling\")\n",
    "    player=False\n",
    "    computer=t[randint(0,2)]"
   ]
  },
  {
   "cell_type": "code",
   "execution_count": null,
   "id": "2940fb22",
   "metadata": {},
   "outputs": [],
   "source": []
  }
 ],
 "metadata": {
  "kernelspec": {
   "display_name": "Python 3 (ipykernel)",
   "language": "python",
   "name": "python3"
  },
  "language_info": {
   "codemirror_mode": {
    "name": "ipython",
    "version": 3
   },
   "file_extension": ".py",
   "mimetype": "text/x-python",
   "name": "python",
   "nbconvert_exporter": "python",
   "pygments_lexer": "ipython3",
   "version": "3.9.13"
  }
 },
 "nbformat": 4,
 "nbformat_minor": 5
}
