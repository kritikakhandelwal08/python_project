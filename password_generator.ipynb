{
 "cells": [
  {
   "cell_type": "code",
   "execution_count": 12,
   "id": "f3203357",
   "metadata": {},
   "outputs": [
    {
     "name": "stdout",
     "output_type": "stream",
     "text": [
      "\u0000M!&bGb\u0005\n"
     ]
    }
   ],
   "source": [
    "import random \n",
    "def shuffle(string):\n",
    "    templist=list(string)\n",
    "    random.shuffle(templist)\n",
    "    return ''.join(templist)\n",
    "up1=chr(random.randint(65,90))\n",
    "up2=chr(random.randint(65,90))\n",
    "low1=chr(random.randint(97,102))\n",
    "low2=chr(random.randint(97,102))\n",
    "d1=chr(random.randint(0,9))\n",
    "d2=chr(random.randint(0,9))\n",
    "p1=chr(random.randint(33,33))\n",
    "p2=chr(random.randint(35,38))\n",
    "password=up1+up2+low1+low2+d1+d2+p1+p2\n",
    "password=shuffle(password)\n",
    "print(password)"
   ]
  },
  {
   "cell_type": "code",
   "execution_count": null,
   "id": "3d31b039",
   "metadata": {},
   "outputs": [],
   "source": []
  },
  {
   "cell_type": "code",
   "execution_count": null,
   "id": "5d8e996f",
   "metadata": {},
   "outputs": [],
   "source": []
  }
 ],
 "metadata": {
  "kernelspec": {
   "display_name": "Python 3 (ipykernel)",
   "language": "python",
   "name": "python3"
  },
  "language_info": {
   "codemirror_mode": {
    "name": "ipython",
    "version": 3
   },
   "file_extension": ".py",
   "mimetype": "text/x-python",
   "name": "python",
   "nbconvert_exporter": "python",
   "pygments_lexer": "ipython3",
   "version": "3.9.13"
  }
 },
 "nbformat": 4,
 "nbformat_minor": 5
}
